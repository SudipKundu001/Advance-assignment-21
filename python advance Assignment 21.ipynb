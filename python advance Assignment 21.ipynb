{
 "cells": [
  {
   "cell_type": "markdown",
   "id": "29b67ed3",
   "metadata": {},
   "source": [
    "## python advance Assignment 21"
   ]
  },
  {
   "cell_type": "markdown",
   "id": "c824fb92",
   "metadata": {},
   "source": [
    "**Q1. What is a probability distribution, exactly? If the values are meant to be random, how can you \n",
    "predict them at all?**\n",
    "\n",
    "Ans:-A probability distribution for a particular random variable is a function or table of values that maps the outcomes in \n",
    "\n",
    "the sample space to the probabilities of those outcome.\n",
    "\n",
    "The core concept of the course is random variable — i.e. variable whose values are determined by random experiment. ... \n",
    "\n",
    "Dependencies between random variables are crucial factor that allows us to predict unknown quantities based on known values, \n",
    "\n",
    "which forms the basis of supervised machine learning."
   ]
  },
  {
   "cell_type": "markdown",
   "id": "8ccd4c65",
   "metadata": {},
   "source": [
    "**Q2. Is there a distinction between true random numbers and pseudo-random numbers, if there is\n",
    "one? Why are the latter considered “good enough”?**\n",
    "\n",
    "Ans:-The difference between true random number generators(TRNGs) and pseudo-random number generators(PRNGs) is that TRNGs use \n",
    "\n",
    "an unpredictable physical means to generate numbers (like atmospheric noise), and PRNGs use mathematical algorithms \n",
    "\n",
    "(completely computer-generated).\n",
    "\n",
    "Given the last generated number, and some configuration parameters (collectively, the state), they deterministically generate \n",
    "\n",
    "another number. In a good PRNG, these numbers will appear unpredictable, unless you know the 'secret sauce' (the state of the \n",
    "\n",
    "generator). For most purposes, pseudorandom is good enough.\n",
    "\n",
    "As it turns out, the Python random module, uses a good PRNG called the Mersenne Twister. When you ask for a random number, the \n",
    "\n",
    "Twister generates the next in its series. If you asked for enough[1] numbers, they would repeat."
   ]
  },
  {
   "cell_type": "markdown",
   "id": "17ca15c8",
   "metadata": {},
   "source": [
    "**Q3. What are the two main factors that influence the behaviour of a \"normal\" probability distribution?**\n",
    "\n",
    "Ans:-The two main parameters of a (normal) distribution are the mean and standard deviation. The parameters determine the \n",
    "\n",
    "shape and probabilities of the distribution. The shape of the distribution changes as the parameter values change."
   ]
  },
  {
   "cell_type": "markdown",
   "id": "8bd60170",
   "metadata": {},
   "source": [
    "**Q4. Provide a real-life example of a normal distribution.**\n",
    "\n",
    "Ans:-Height. Height of the population is the example of normal distribution. Most of the people in a specific population are \n",
    "\n",
    "of average height. The number of people taller and shorter than the average height people is almost equal, and a very small \n",
    "\n",
    "number of people are either extremely tall or extremely short."
   ]
  },
  {
   "cell_type": "markdown",
   "id": "2cb2260c",
   "metadata": {},
   "source": [
    "**Q5. In the short term, how can you expect a probability distribution to behave? What do you think will\n",
    "happen as the number of trials grows?**\n",
    "\n",
    "Ans:-Variance will decrease with number of trials"
   ]
  },
  {
   "cell_type": "markdown",
   "id": "1ff10a3f",
   "metadata": {},
   "source": [
    "**Q6. What kind of object can be shuffled by using random.shuffle ?**\n",
    "\n",
    "Ans:- lists (list), strings (str) and tuples (tuple) objects can be shuffled by using random.shuffle."
   ]
  },
  {
   "cell_type": "markdown",
   "id": "d3b6af6e",
   "metadata": {},
   "source": [
    "**Q7. Describe the math package's general categories of functions ?**\n",
    "\n",
    "Ans:-The math module is a standard module in Python and is always available. To use mathematical functions under this module, \n",
    "\n",
    "we have to import the module using import math .\n",
    "\n",
    "The Math package's general categories of functions are:\n",
    "\n",
    "Trigonometric functions\n",
    "\n",
    "Quadratic functions\n",
    "\n",
    "Exponential functions\n",
    "\n",
    "Hyperbolic functions\n",
    "\n",
    "Periodic functions\n",
    "\n",
    "Arithmetic functions\n",
    "\n",
    "Logarithimic functions\n",
    "\n",
    "Conversions to Integer"
   ]
  },
  {
   "cell_type": "markdown",
   "id": "3a545af3",
   "metadata": {},
   "source": [
    "**Q8. What is the relationship between exponentiation and logarithms ?**\n",
    "\n",
    "Ans:-Logarithmic functions are the inverses of exponential functions"
   ]
  },
  {
   "cell_type": "markdown",
   "id": "5345eed0",
   "metadata": {},
   "source": [
    "**Q9. What are the three logarithmic functions that Python supports?**\n",
    "\n",
    "Ans:-The Three Logarithmic Functions that Python supports are:\n",
    "\n",
    "log2(x) - logarithmic value of x to base 2\n",
    "\n",
    "log10(x) - logarithmic value of x to base 10\n",
    "\n",
    "log1p(a) - This function is used to compute logarithm(1+a) ."
   ]
  }
 ],
 "metadata": {
  "kernelspec": {
   "display_name": "Python 3 (ipykernel)",
   "language": "python",
   "name": "python3"
  },
  "language_info": {
   "codemirror_mode": {
    "name": "ipython",
    "version": 3
   },
   "file_extension": ".py",
   "mimetype": "text/x-python",
   "name": "python",
   "nbconvert_exporter": "python",
   "pygments_lexer": "ipython3",
   "version": "3.9.7"
  }
 },
 "nbformat": 4,
 "nbformat_minor": 5
}
